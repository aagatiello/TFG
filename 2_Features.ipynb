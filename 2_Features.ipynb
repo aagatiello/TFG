{
 "cells": [
  {
   "cell_type": "markdown",
   "metadata": {},
   "source": [
    "# Preprocesamiento y análisis de features"
   ]
  },
  {
   "cell_type": "code",
   "execution_count": 1,
   "metadata": {
    "ExecuteTime": {
     "end_time": "2022-02-01T08:37:08.516497Z",
     "start_time": "2022-02-01T08:37:04.971962Z"
    }
   },
   "outputs": [],
   "source": [
    "import matplotlib.pyplot as plt\n",
    "import pandas as pd\n",
    "import seaborn as sns\n",
    "\n",
    "from sklearn.feature_extraction.text import CountVectorizer, TfidfVectorizer, TfidfTransformer\n",
    "from gensim.models import Word2Vec\n",
    "from sklearn.feature_selection import SelectKBest, chi2\n",
    "\n",
    "import pickle\n",
    "data = pickle.load(open(\"saved_feats/data\", \"rb\"))\n",
    "\n",
    "# FORMATO DE PLOTS\n",
    "plt.style.use('bmh')"
   ]
  },
  {
   "cell_type": "markdown",
   "metadata": {},
   "source": [
    "## Bag of Words"
   ]
  },
  {
   "cell_type": "markdown",
   "metadata": {},
   "source": [
    "Primero establecemos la variable sentimiento según el rating, siendo 1-2 negativo, 3 neutro y 4-5 positivo"
   ]
  },
  {
   "cell_type": "code",
   "execution_count": 2,
   "metadata": {
    "ExecuteTime": {
     "end_time": "2022-02-01T08:37:08.578758Z",
     "start_time": "2022-02-01T08:37:08.518877Z"
    }
   },
   "outputs": [],
   "source": [
    "def sentiments(rating):\n",
    "    if (rating == 5) or (rating == 4):\n",
    "        return \"Positive\"\n",
    "    elif rating == 3:\n",
    "        return \"Neutral\"\n",
    "    elif (rating == 2) or (rating == 1):\n",
    "        return \"Negative\"\n",
    "\n",
    "data_clean=data.dropna(axis='index', how='any')\n",
    "\n",
    "# Add sentiments to the data\n",
    "data_text = data_clean[\"reviews.text\"].to_numpy()\n",
    "data_sentiment = data_clean[\"reviews.rating\"].apply(sentiments).to_numpy()"
   ]
  },
  {
   "cell_type": "markdown",
   "metadata": {},
   "source": [
    "Convertimos el contenido en vectores"
   ]
  },
  {
   "cell_type": "code",
   "execution_count": 3,
   "metadata": {
    "ExecuteTime": {
     "end_time": "2022-02-01T08:37:09.059248Z",
     "start_time": "2022-02-01T08:37:08.580777Z"
    }
   },
   "outputs": [
    {
     "name": "stdout",
     "output_type": "stream",
     "text": [
      "shape of data_text_bow is (27212, 11549)\n"
     ]
    }
   ],
   "source": [
    "BoW = CountVectorizer(stop_words='english', ngram_range=(1,1))\n",
    "data_text_bow = BoW.fit_transform(data_text)\n",
    "\n",
    "print('shape of data_text_bow is {}'.format(data_text_bow.get_shape()))"
   ]
  },
  {
   "cell_type": "markdown",
   "metadata": {},
   "source": [
    "## TFIDF"
   ]
  },
  {
   "cell_type": "markdown",
   "metadata": {},
   "source": [
    "Suprimimos la redundancia que pueden ocasionar palabras que tienen poco significado y que son las más repetidas en textos largos"
   ]
  },
  {
   "cell_type": "code",
   "execution_count": 4,
   "metadata": {
    "ExecuteTime": {
     "end_time": "2022-02-01T08:37:09.086077Z",
     "start_time": "2022-02-01T08:37:09.060492Z"
    }
   },
   "outputs": [
    {
     "name": "stdout",
     "output_type": "stream",
     "text": [
      "shape of data_text_tfidf is (27212, 11549)\n"
     ]
    }
   ],
   "source": [
    "tfidf = TfidfTransformer(use_idf=True, norm='l2', smooth_idf=True, sublinear_tf=False)\n",
    "data_text_tfidf = tfidf.fit_transform(data_text_bow)\n",
    "\n",
    "print('shape of data_text_tfidf is {}'.format(data_text_tfidf.get_shape()))"
   ]
  },
  {
   "cell_type": "markdown",
   "metadata": {},
   "source": [
    "## Selección de mejores features"
   ]
  },
  {
   "cell_type": "code",
   "execution_count": 5,
   "metadata": {
    "ExecuteTime": {
     "end_time": "2022-02-01T08:37:09.158831Z",
     "start_time": "2022-02-01T08:37:09.087436Z"
    }
   },
   "outputs": [
    {
     "name": "stdout",
     "output_type": "stream",
     "text": [
      "shape of data_text_kbest is (27212, 5000)\n"
     ]
    }
   ],
   "source": [
    "# seleccionamos las N mejores features según su relación con el outcome\n",
    "best = SelectKBest(chi2, k=5000)\n",
    "data_text_kbest = best.fit_transform(data_text_tfidf, data_sentiment)\n",
    "\n",
    "print('shape of data_text_kbest is {}'.format(data_text_kbest.get_shape()))"
   ]
  },
  {
   "cell_type": "code",
   "execution_count": 6,
   "metadata": {
    "ExecuteTime": {
     "end_time": "2022-02-01T08:37:09.428017Z",
     "start_time": "2022-02-01T08:37:09.160556Z"
    },
    "scrolled": true
   },
   "outputs": [
    {
     "name": "stdout",
     "output_type": "stream",
     "text": [
      "(11549,)\n"
     ]
    },
    {
     "data": {
      "text/plain": [
       "(array([ 584.,  189.,  100.,   76.,   63.,   41.,   60.,   53.,   43.,\n",
       "          41.,   33.,   47.,   29.,   24.,   42.,   26.,   30.,   30.,\n",
       "          26.,   38.,   22.,   17.,   25.,   22.,   15.,   28.,   15.,\n",
       "          23.,   21.,   24.,   24.,   21.,   16.,   32.,   28.,   22.,\n",
       "          23.,   23.,   23.,   18.,   13.,   22.,   24.,   22.,   20.,\n",
       "          23.,   21.,   19.,   22.,   21.,   18.,   26.,   23.,   26.,\n",
       "          20.,   30.,   33.,   14.,   29.,   31.,   25.,   23.,   28.,\n",
       "          25.,   37.,   29.,   24.,   39.,   38.,   35.,   25.,   45.,\n",
       "          38.,   39.,   48.,   36.,   36.,   44.,   48.,   65.,   48.,\n",
       "          51.,   55.,   65.,   80.,   75.,   88.,   93.,  112.,  114.,\n",
       "         134.,  166.,  183.,  210.,  286.,  367.,  579., 1212., 2711.,\n",
       "        1714.]),\n",
       " array([2.86448036e-19, 9.98892059e-03, 1.99778412e-02, 2.99667618e-02,\n",
       "        3.99556823e-02, 4.99446029e-02, 5.99335235e-02, 6.99224441e-02,\n",
       "        7.99113647e-02, 8.99002853e-02, 9.98892059e-02, 1.09878126e-01,\n",
       "        1.19867047e-01, 1.29855968e-01, 1.39844888e-01, 1.49833809e-01,\n",
       "        1.59822729e-01, 1.69811650e-01, 1.79800571e-01, 1.89789491e-01,\n",
       "        1.99778412e-01, 2.09767332e-01, 2.19756253e-01, 2.29745173e-01,\n",
       "        2.39734094e-01, 2.49723015e-01, 2.59711935e-01, 2.69700856e-01,\n",
       "        2.79689776e-01, 2.89678697e-01, 2.99667618e-01, 3.09656538e-01,\n",
       "        3.19645459e-01, 3.29634379e-01, 3.39623300e-01, 3.49612221e-01,\n",
       "        3.59601141e-01, 3.69590062e-01, 3.79578982e-01, 3.89567903e-01,\n",
       "        3.99556823e-01, 4.09545744e-01, 4.19534665e-01, 4.29523585e-01,\n",
       "        4.39512506e-01, 4.49501426e-01, 4.59490347e-01, 4.69479268e-01,\n",
       "        4.79468188e-01, 4.89457109e-01, 4.99446029e-01, 5.09434950e-01,\n",
       "        5.19423870e-01, 5.29412791e-01, 5.39401712e-01, 5.49390632e-01,\n",
       "        5.59379553e-01, 5.69368473e-01, 5.79357394e-01, 5.89346315e-01,\n",
       "        5.99335235e-01, 6.09324156e-01, 6.19313076e-01, 6.29301997e-01,\n",
       "        6.39290918e-01, 6.49279838e-01, 6.59268759e-01, 6.69257679e-01,\n",
       "        6.79246600e-01, 6.89235520e-01, 6.99224441e-01, 7.09213362e-01,\n",
       "        7.19202282e-01, 7.29191203e-01, 7.39180123e-01, 7.49169044e-01,\n",
       "        7.59157965e-01, 7.69146885e-01, 7.79135806e-01, 7.89124726e-01,\n",
       "        7.99113647e-01, 8.09102567e-01, 8.19091488e-01, 8.29080409e-01,\n",
       "        8.39069329e-01, 8.49058250e-01, 8.59047170e-01, 8.69036091e-01,\n",
       "        8.79025012e-01, 8.89013932e-01, 8.99002853e-01, 9.08991773e-01,\n",
       "        9.18980694e-01, 9.28969615e-01, 9.38958535e-01, 9.48947456e-01,\n",
       "        9.58936376e-01, 9.68925297e-01, 9.78914217e-01, 9.88903138e-01,\n",
       "        9.98892059e-01]),\n",
       " <BarContainer object of 100 artists>)"
      ]
     },
     "execution_count": 6,
     "metadata": {},
     "output_type": "execute_result"
    },
    {
     "data": {
      "image/png": "[encoded data removed]",
      "text/plain": [
       "<Figure size 1080x360 with 1 Axes>"
      ]
     },
     "metadata": {
      "needs_background": "light"
     },
     "output_type": "display_data"
    }
   ],
   "source": [
    "# Queremos ver las features mejor correladas con la variable outcome. Con el BestK hemos seleccionado 1000 de las 11000,\n",
    "# Con el histograma de pvalues vemos que salvo las 2000 primeras (p-value < 0.05 => no estan correladas), el resto son buenas\n",
    "# y están correladas con el outcome\n",
    "print(best.pvalues_.shape)\n",
    "\n",
    "plt.figure(figsize=(15, 5))\n",
    "plt.hist(best.pvalues_[best.scores_ <= 100], 100)"
   ]
  },
  {
   "cell_type": "code",
   "execution_count": 7,
   "metadata": {
    "ExecuteTime": {
     "end_time": "2022-02-01T08:37:09.555211Z",
     "start_time": "2022-02-01T08:37:09.430155Z"
    }
   },
   "outputs": [
    {
     "data": {
      "text/plain": [
       "<matplotlib.collections.PathCollection at 0x7f9d2c4ed250>"
      ]
     },
     "execution_count": 7,
     "metadata": {},
     "output_type": "execute_result"
    },
    {
     "data": {
      "image/png": "[encoded data removed]",
      "text/plain": [
       "<Figure size 432x288 with 1 Axes>"
      ]
     },
     "metadata": {
      "needs_background": "light"
     },
     "output_type": "display_data"
    }
   ],
   "source": [
    "plt.scatter(best.pvalues_,best.scores_)"
   ]
  },
  {
   "cell_type": "code",
   "execution_count": null,
   "metadata": {
    "ExecuteTime": {
     "end_time": "2022-01-31T11:51:54.183313Z",
     "start_time": "2022-01-31T09:47:18.948995Z"
    },
    "deletable": false,
    "editable": false,
    "run_control": {
     "frozen": true
    },
    "scrolled": true
   },
   "outputs": [],
   "source": [
    "df_data_trans = pd.DataFrame(data_text_tfidf.toarray())\n",
    "# obtenemos la matriz de correlación para ver si hay features que sean redundantes\n",
    "corr = df_data_trans.corr()\n",
    "# vemos los límites de los valores de correlación para luego mostrar el heatmap con mas contraste\n",
    "plt.hist(corr)"
   ]
  },
  {
   "cell_type": "code",
   "execution_count": null,
   "metadata": {
    "ExecuteTime": {
     "end_time": "2022-01-31T12:03:07.450823Z",
     "start_time": "2022-01-31T12:03:07.405082Z"
    },
    "deletable": false,
    "editable": false,
    "run_control": {
     "frozen": true
    }
   },
   "outputs": [],
   "source": [
    "fig = plt.figure(figsize=(10, 10))\n",
    "ax = fig.add_subplot()\n",
    "\n",
    "# vemos que las correlaciones entre features son muy bajas. Por tanto, no tenemos que preocuparnos por eso\n",
    "sns.heatmap(corr, cmap=\"YlGnBu\", linecolor='white',\n",
    "            linewidth=0, vmin=-0, vmax=0.1)"
   ]
  },
  {
   "cell_type": "markdown",
   "metadata": {},
   "source": [
    "### Almacenamiento de features"
   ]
  },
  {
   "cell_type": "code",
   "execution_count": 8,
   "metadata": {
    "ExecuteTime": {
     "end_time": "2022-02-01T08:37:09.564269Z",
     "start_time": "2022-02-01T08:37:09.556630Z"
    }
   },
   "outputs": [],
   "source": [
    "pickle.dump(data_text_tfidf, open(\"saved_feats/data_text_tfidf\", \"wb\"))\n",
    "pickle.dump(data_sentiment, open(\"saved_feats/data_sentiment\", \"wb\"))"
   ]
  }
 ],
 "metadata": {
  "kernelspec": {
   "display_name": "Python 3",
   "language": "python",
   "name": "python3"
  },
  "language_info": {
   "codemirror_mode": {
    "name": "ipython",
    "version": 3
   },
   "file_extension": ".py",
   "mimetype": "text/x-python",
   "name": "python",
   "nbconvert_exporter": "python",
   "pygments_lexer": "ipython3",
   "version": "3.8.10"
  },
  "toc": {
   "base_numbering": 1,
   "nav_menu": {},
   "number_sections": false,
   "sideBar": true,
   "skip_h1_title": false,
   "title_cell": "Table of Contents",
   "title_sidebar": "Contents",
   "toc_cell": false,
   "toc_position": {},
   "toc_section_display": true,
   "toc_window_display": false
  },
  "varInspector": {
   "cols": {
    "lenName": 16,
    "lenType": 16,
    "lenVar": 40
   },
   "kernels_config": {
    "python": {
     "delete_cmd_postfix": "",
     "delete_cmd_prefix": "del ",
     "library": "var_list.py",
     "varRefreshCmd": "print(var_dic_list())"
    },
    "r": {
     "delete_cmd_postfix": ") ",
     "delete_cmd_prefix": "rm(",
     "library": "var_list.r",
     "varRefreshCmd": "cat(var_dic_list()) "
    }
   },
   "types_to_exclude": [
    "module",
    "function",
    "builtin_function_or_method",
    "instance",
    "_Feature"
   ],
   "window_display": false
  }
 },
 "nbformat": 4,
 "nbformat_minor": 4
}
