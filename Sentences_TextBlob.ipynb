{
 "cells": [
  {
   "cell_type": "markdown",
   "id": "80af8273",
   "metadata": {
    "ExecuteTime": {
     "end_time": "2022-09-12T23:41:39.148812Z",
     "start_time": "2022-09-12T23:41:39.136950Z"
    }
   },
   "source": [
    "**<center><font size = \"6\">Comparación de oraciones Demo con TextBlob<center>**\n",
    "***"
   ]
  },
  {
   "cell_type": "markdown",
   "id": "f8eeba86",
   "metadata": {},
   "source": [
    "Si la polaridad < 0 se trata de un sentimiento negativo, > 0 positivo e = 0 neutro."
   ]
  },
  {
   "cell_type": "code",
   "execution_count": 1,
   "id": "8f0115f3",
   "metadata": {
    "ExecuteTime": {
     "end_time": "2022-09-12T23:29:14.071041Z",
     "start_time": "2022-09-12T23:29:13.442466Z"
    }
   },
   "outputs": [],
   "source": [
    "from textblob import TextBlob"
   ]
  },
  {
   "cell_type": "code",
   "execution_count": 2,
   "id": "92e6c7f5",
   "metadata": {
    "ExecuteTime": {
     "end_time": "2022-09-12T23:29:14.108793Z",
     "start_time": "2022-09-12T23:29:14.072263Z"
    }
   },
   "outputs": [
    {
     "data": {
      "text/plain": [
       "0.7"
      ]
     },
     "execution_count": 2,
     "metadata": {},
     "output_type": "execute_result"
    }
   ],
   "source": [
    "sentence1 = TextBlob(\"Good communication with the store\")\n",
    "sentence1.sentiment.polarity"
   ]
  },
  {
   "cell_type": "code",
   "execution_count": 3,
   "id": "a706ee51",
   "metadata": {
    "ExecuteTime": {
     "end_time": "2022-09-12T23:29:14.113982Z",
     "start_time": "2022-09-12T23:29:14.110631Z"
    }
   },
   "outputs": [
    {
     "data": {
      "text/plain": [
       "0.5"
      ]
     },
     "execution_count": 3,
     "metadata": {},
     "output_type": "execute_result"
    }
   ],
   "source": [
    "sentence2 = TextBlob(\"I got this as a gift and I enjoyed it a lot\")\n",
    "sentence2.sentiment.polarity"
   ]
  },
  {
   "cell_type": "code",
   "execution_count": 4,
   "id": "c2f9ab25",
   "metadata": {
    "ExecuteTime": {
     "end_time": "2022-09-12T23:29:14.149167Z",
     "start_time": "2022-09-12T23:29:14.145971Z"
    }
   },
   "outputs": [
    {
     "data": {
      "text/plain": [
       "0.5"
      ]
     },
     "execution_count": 4,
     "metadata": {},
     "output_type": "execute_result"
    }
   ],
   "source": [
    "sentence3 = TextBlob(\"I love this product\")\n",
    "sentence3.sentiment.polarity"
   ]
  },
  {
   "cell_type": "code",
   "execution_count": 5,
   "id": "31e2c749",
   "metadata": {
    "ExecuteTime": {
     "end_time": "2022-09-12T23:29:14.149167Z",
     "start_time": "2022-09-12T23:29:14.145971Z"
    }
   },
   "outputs": [
    {
     "data": {
      "text/plain": [
       "0.0"
      ]
     },
     "execution_count": 5,
     "metadata": {},
     "output_type": "execute_result"
    }
   ],
   "source": [
    "sentence4 = TextBlob(\"It's a no for me\")\n",
    "sentence4.sentiment.polarity"
   ]
  },
  {
   "cell_type": "code",
   "execution_count": 6,
   "id": "167b5bd3",
   "metadata": {
    "ExecuteTime": {
     "end_time": "2022-09-12T23:29:14.149167Z",
     "start_time": "2022-09-12T23:29:14.145971Z"
    }
   },
   "outputs": [
    {
     "data": {
      "text/plain": [
       "-0.4"
      ]
     },
     "execution_count": 6,
     "metadata": {},
     "output_type": "execute_result"
    }
   ],
   "source": [
    "sentence5 = TextBlob(\"Poor product quality\")\n",
    "sentence5.sentiment.polarity"
   ]
  },
  {
   "cell_type": "code",
   "execution_count": 7,
   "id": "311cbb13",
   "metadata": {
    "ExecuteTime": {
     "end_time": "2022-09-12T23:29:14.149167Z",
     "start_time": "2022-09-12T23:29:14.145971Z"
    }
   },
   "outputs": [
    {
     "data": {
      "text/plain": [
       "-0.15"
      ]
     },
     "execution_count": 7,
     "metadata": {},
     "output_type": "execute_result"
    }
   ],
   "source": [
    "sentence6 = TextBlob(\"This tablet was not worth it at all\")\n",
    "sentence6.sentiment.polarity"
   ]
  },
  {
   "cell_type": "code",
   "execution_count": 8,
   "id": "c0e8f874",
   "metadata": {
    "ExecuteTime": {
     "end_time": "2022-09-12T23:29:14.149167Z",
     "start_time": "2022-09-12T23:29:14.145971Z"
    }
   },
   "outputs": [
    {
     "data": {
      "text/plain": [
       "-0.4"
      ]
     },
     "execution_count": 8,
     "metadata": {},
     "output_type": "execute_result"
    }
   ],
   "source": [
    "sentence7 = TextBlob(\"The package arrived broken and I have returned it\")\n",
    "sentence7.sentiment.polarity"
   ]
  },
  {
   "cell_type": "code",
   "execution_count": 9,
   "id": "849092e7",
   "metadata": {
    "ExecuteTime": {
     "end_time": "2022-09-12T23:29:14.149167Z",
     "start_time": "2022-09-12T23:29:14.145971Z"
    }
   },
   "outputs": [
    {
     "data": {
      "text/plain": [
       "0.0"
      ]
     },
     "execution_count": 9,
     "metadata": {},
     "output_type": "execute_result"
    }
   ],
   "source": [
    "sentence8 = TextBlob(\"This was acceptable\")\n",
    "sentence8.sentiment.polarity"
   ]
  },
  {
   "cell_type": "code",
   "execution_count": 10,
   "id": "dd8a99c0",
   "metadata": {
    "ExecuteTime": {
     "end_time": "2022-09-12T23:29:14.149167Z",
     "start_time": "2022-09-12T23:29:14.145971Z"
    }
   },
   "outputs": [
    {
     "data": {
      "text/plain": [
       "0.5"
      ]
     },
     "execution_count": 10,
     "metadata": {},
     "output_type": "execute_result"
    }
   ],
   "source": [
    "sentence9 = TextBlob(\"This product is ok\")\n",
    "sentence9.sentiment.polarity"
   ]
  },
  {
   "cell_type": "code",
   "execution_count": 11,
   "id": "3c5b3d91",
   "metadata": {
    "ExecuteTime": {
     "end_time": "2022-09-12T23:29:14.153359Z",
     "start_time": "2022-09-12T23:29:14.150367Z"
    }
   },
   "outputs": [
    {
     "data": {
      "text/plain": [
       "0.4000000000000001"
      ]
     },
     "execution_count": 11,
     "metadata": {},
     "output_type": "execute_result"
    }
   ],
   "source": [
    "sentence10 = TextBlob(\"Product description is accurate\")\n",
    "sentence10.sentiment.polarity"
   ]
  }
 ],
 "metadata": {
  "kernelspec": {
   "display_name": "Python 3 (ipykernel)",
   "language": "python",
   "name": "python3"
  },
  "language_info": {
   "codemirror_mode": {
    "name": "ipython",
    "version": 3
   },
   "file_extension": ".py",
   "mimetype": "text/x-python",
   "name": "python",
   "nbconvert_exporter": "python",
   "pygments_lexer": "ipython3",
   "version": "3.10.4"
  },
  "toc": {
   "base_numbering": 1,
   "nav_menu": {},
   "number_sections": true,
   "sideBar": true,
   "skip_h1_title": false,
   "title_cell": "Table of Contents",
   "title_sidebar": "Contents",
   "toc_cell": false,
   "toc_position": {},
   "toc_section_display": true,
   "toc_window_display": false
  },
  "varInspector": {
   "cols": {
    "lenName": 16,
    "lenType": 16,
    "lenVar": 40
   },
   "kernels_config": {
    "python": {
     "delete_cmd_postfix": "",
     "delete_cmd_prefix": "del ",
     "library": "var_list.py",
     "varRefreshCmd": "print(var_dic_list())"
    },
    "r": {
     "delete_cmd_postfix": ") ",
     "delete_cmd_prefix": "rm(",
     "library": "var_list.r",
     "varRefreshCmd": "cat(var_dic_list()) "
    }
   },
   "types_to_exclude": [
    "module",
    "function",
    "builtin_function_or_method",
    "instance",
    "_Feature"
   ],
   "window_display": false
  }
 },
 "nbformat": 4,
 "nbformat_minor": 5
}
